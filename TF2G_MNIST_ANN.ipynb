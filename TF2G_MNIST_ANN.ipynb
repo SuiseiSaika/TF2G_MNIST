{
 "cells": [
  {
   "cell_type": "code",
   "execution_count": 1,
   "metadata": {},
   "outputs": [],
   "source": [
    "%matplotlib inline\n",
    "import tensorflow as tf\n",
    "import numpy as np\n",
    "import matplotlib.pyplot as plt\n",
    "from tensorflow.keras import *\n",
    "from tensorflow.keras.utils import *\n",
    "from tensorflow.keras.datasets import mnist"
   ]
  },
  {
   "cell_type": "code",
   "execution_count": 2,
   "metadata": {},
   "outputs": [],
   "source": [
    "(x_train, y_train), (x_test, y_test) = mnist.load_data()\n",
    "x_train, x_test = x_train.reshape(60000,784)/255.0, x_test.reshape(10000,784)/255.0\n",
    "# y_train, y_test = to_categorical(y_train, 10), to_categorical(y_test, 10)"
   ]
  },
  {
   "cell_type": "code",
   "execution_count": 3,
   "metadata": {},
   "outputs": [],
   "source": [
    "epoch = 50\n",
    "batch_size = 256"
   ]
  },
  {
   "cell_type": "code",
   "execution_count": 4,
   "metadata": {},
   "outputs": [],
   "source": [
    "def basic_layer(node, dropout = True, dropoutrate = 0.25, bn = True):\n",
    "    layer = models.Sequential()\n",
    "    layer.add(layers.Dense(node))\n",
    "    if dropout:\n",
    "        layer.add(layers.Dropout(dropoutrate))\n",
    "    if bn:\n",
    "        layer.add(layers.BatchNormalization())\n",
    "    layer.add(layers.Activation('elu'))\n",
    "    return layer"
   ]
  },
  {
   "cell_type": "code",
   "execution_count": 5,
   "metadata": {},
   "outputs": [],
   "source": [
    "model = models.Sequential()\n",
    "model.add(layers.Dense(16, input_dim=784, activation='elu'))\n",
    "model.add(layers.BatchNormalization())\n",
    "model.add(layers.Activation('elu'))\n",
    "model.add(basic_layer(32, False))\n",
    "model.add(basic_layer(64))\n",
    "# model.add(basic_layer(64))\n",
    "# model.add(basic_layer(128, dropoutrate = 0.5))\n",
    "# model.add(basic_layer(128, dropoutrate = 0.5))\n",
    "model.add(layers.Dense(10, activation='softmax'))"
   ]
  },
  {
   "cell_type": "code",
   "execution_count": 6,
   "metadata": {},
   "outputs": [
    {
     "name": "stdout",
     "output_type": "stream",
     "text": [
      "Model: \"sequential\"\n",
      "_________________________________________________________________\n",
      "Layer (type)                 Output Shape              Param #   \n",
      "=================================================================\n",
      "dense (Dense)                (None, 16)                12560     \n",
      "_________________________________________________________________\n",
      "batch_normalization (BatchNo (None, 16)                64        \n",
      "_________________________________________________________________\n",
      "activation (Activation)      (None, 16)                0         \n",
      "_________________________________________________________________\n",
      "sequential_1 (Sequential)    (None, 32)                672       \n",
      "_________________________________________________________________\n",
      "sequential_2 (Sequential)    (None, 64)                2368      \n",
      "_________________________________________________________________\n",
      "dense_3 (Dense)              (None, 10)                650       \n",
      "=================================================================\n",
      "Total params: 16,314\n",
      "Trainable params: 16,090\n",
      "Non-trainable params: 224\n",
      "_________________________________________________________________\n"
     ]
    }
   ],
   "source": [
    "model.summary()"
   ]
  },
  {
   "cell_type": "code",
   "execution_count": 7,
   "metadata": {},
   "outputs": [
    {
     "name": "stdout",
     "output_type": "stream",
     "text": [
      "Train on 60000 samples, validate on 10000 samples\n",
      "Epoch 1/50\n",
      "60000/60000 [==============================] - 3s 54us/sample - loss: 0.3303 - accuracy: 0.9015 - val_loss: 0.2291 - val_accuracy: 0.9329\n",
      "Epoch 2/50\n",
      "60000/60000 [==============================] - 2s 29us/sample - loss: 0.1900 - accuracy: 0.9431 - val_loss: 0.1782 - val_accuracy: 0.9483\n",
      "Epoch 3/50\n",
      "60000/60000 [==============================] - 2s 27us/sample - loss: 0.1581 - accuracy: 0.9524 - val_loss: 0.2112 - val_accuracy: 0.9398\n",
      "Epoch 4/50\n",
      "60000/60000 [==============================] - 2s 27us/sample - loss: 0.1456 - accuracy: 0.9557 - val_loss: 0.1603 - val_accuracy: 0.9527\n",
      "Epoch 5/50\n",
      "60000/60000 [==============================] - 2s 27us/sample - loss: 0.1348 - accuracy: 0.9593 - val_loss: 0.1801 - val_accuracy: 0.9492\n",
      "Epoch 6/50\n",
      "60000/60000 [==============================] - 2s 28us/sample - loss: 0.1227 - accuracy: 0.9626 - val_loss: 0.1603 - val_accuracy: 0.9526\n",
      "Epoch 7/50\n",
      "60000/60000 [==============================] - 2s 28us/sample - loss: 0.1213 - accuracy: 0.9629 - val_loss: 0.1477 - val_accuracy: 0.9570\n",
      "Epoch 8/50\n",
      "60000/60000 [==============================] - 2s 29us/sample - loss: 0.1160 - accuracy: 0.9641 - val_loss: 0.1426 - val_accuracy: 0.9592\n",
      "Epoch 9/50\n",
      "60000/60000 [==============================] - 2s 27us/sample - loss: 0.1102 - accuracy: 0.9666 - val_loss: 0.1340 - val_accuracy: 0.9614\n",
      "Epoch 10/50\n",
      "60000/60000 [==============================] - 2s 27us/sample - loss: 0.1045 - accuracy: 0.9676 - val_loss: 0.1409 - val_accuracy: 0.9605\n",
      "Epoch 11/50\n",
      "60000/60000 [==============================] - 2s 28us/sample - loss: 0.1029 - accuracy: 0.9672 - val_loss: 0.1640 - val_accuracy: 0.9538\n",
      "Epoch 12/50\n",
      "60000/60000 [==============================] - 2s 28us/sample - loss: 0.0969 - accuracy: 0.9709 - val_loss: 0.1531 - val_accuracy: 0.9562\n",
      "Epoch 13/50\n",
      "60000/60000 [==============================] - 2s 28us/sample - loss: 0.0974 - accuracy: 0.9696 - val_loss: 0.1383 - val_accuracy: 0.9587\n",
      "Epoch 14/50\n",
      "60000/60000 [==============================] - 2s 28us/sample - loss: 0.0930 - accuracy: 0.9705 - val_loss: 0.1393 - val_accuracy: 0.9621\n",
      "Epoch 15/50\n",
      "60000/60000 [==============================] - 2s 28us/sample - loss: 0.0910 - accuracy: 0.9712 - val_loss: 0.1422 - val_accuracy: 0.9604\n",
      "Epoch 16/50\n",
      "60000/60000 [==============================] - 2s 28us/sample - loss: 0.0886 - accuracy: 0.9722 - val_loss: 0.1594 - val_accuracy: 0.9549\n",
      "Epoch 17/50\n",
      "60000/60000 [==============================] - 2s 28us/sample - loss: 0.0859 - accuracy: 0.9722 - val_loss: 0.1436 - val_accuracy: 0.9605\n",
      "Epoch 18/50\n",
      "60000/60000 [==============================] - 2s 28us/sample - loss: 0.0886 - accuracy: 0.9720 - val_loss: 0.1465 - val_accuracy: 0.9586\n",
      "Epoch 19/50\n",
      "60000/60000 [==============================] - 2s 28us/sample - loss: 0.0834 - accuracy: 0.9742 - val_loss: 0.1460 - val_accuracy: 0.9598\n",
      "Epoch 20/50\n",
      "60000/60000 [==============================] - 2s 28us/sample - loss: 0.0839 - accuracy: 0.9737 - val_loss: 0.1386 - val_accuracy: 0.9642\n",
      "Epoch 21/50\n",
      "60000/60000 [==============================] - 2s 27us/sample - loss: 0.0796 - accuracy: 0.9747 - val_loss: 0.1486 - val_accuracy: 0.9590\n",
      "Epoch 22/50\n",
      "60000/60000 [==============================] - 2s 28us/sample - loss: 0.0784 - accuracy: 0.9748 - val_loss: 0.1463 - val_accuracy: 0.9609\n",
      "Epoch 23/50\n",
      "60000/60000 [==============================] - 2s 28us/sample - loss: 0.0790 - accuracy: 0.9750 - val_loss: 0.1482 - val_accuracy: 0.9596\n",
      "Epoch 24/50\n",
      "60000/60000 [==============================] - 2s 28us/sample - loss: 0.0774 - accuracy: 0.9749 - val_loss: 0.1450 - val_accuracy: 0.9602\n",
      "Epoch 25/50\n",
      "60000/60000 [==============================] - 2s 28us/sample - loss: 0.0758 - accuracy: 0.9752 - val_loss: 0.1509 - val_accuracy: 0.9615\n",
      "Epoch 26/50\n",
      "60000/60000 [==============================] - 2s 29us/sample - loss: 0.0739 - accuracy: 0.9759 - val_loss: 0.1606 - val_accuracy: 0.9574\n",
      "Epoch 27/50\n",
      "60000/60000 [==============================] - 2s 28us/sample - loss: 0.0731 - accuracy: 0.9762 - val_loss: 0.1523 - val_accuracy: 0.9612\n",
      "Epoch 28/50\n",
      "60000/60000 [==============================] - 2s 28us/sample - loss: 0.0719 - accuracy: 0.9774 - val_loss: 0.1452 - val_accuracy: 0.9609\n",
      "Epoch 29/50\n",
      "60000/60000 [==============================] - 2s 28us/sample - loss: 0.0689 - accuracy: 0.9776 - val_loss: 0.1506 - val_accuracy: 0.9602\n",
      "Epoch 30/50\n",
      "60000/60000 [==============================] - 2s 28us/sample - loss: 0.0699 - accuracy: 0.9772 - val_loss: 0.1510 - val_accuracy: 0.9625\n",
      "Epoch 31/50\n",
      "60000/60000 [==============================] - 2s 28us/sample - loss: 0.0681 - accuracy: 0.9775 - val_loss: 0.1680 - val_accuracy: 0.9575\n",
      "Epoch 32/50\n",
      "60000/60000 [==============================] - 2s 28us/sample - loss: 0.0696 - accuracy: 0.9772 - val_loss: 0.1655 - val_accuracy: 0.9579\n",
      "Epoch 33/50\n",
      "60000/60000 [==============================] - 2s 28us/sample - loss: 0.0667 - accuracy: 0.9786 - val_loss: 0.1496 - val_accuracy: 0.9607\n",
      "Epoch 34/50\n",
      "60000/60000 [==============================] - 2s 28us/sample - loss: 0.0665 - accuracy: 0.9779 - val_loss: 0.1629 - val_accuracy: 0.9610\n",
      "Epoch 35/50\n",
      "60000/60000 [==============================] - 2s 29us/sample - loss: 0.0632 - accuracy: 0.9792 - val_loss: 0.1626 - val_accuracy: 0.9609\n",
      "Epoch 36/50\n",
      "60000/60000 [==============================] - 2s 28us/sample - loss: 0.0652 - accuracy: 0.9786 - val_loss: 0.1516 - val_accuracy: 0.9609\n",
      "Epoch 37/50\n",
      "60000/60000 [==============================] - 2s 28us/sample - loss: 0.0627 - accuracy: 0.9788 - val_loss: 0.1665 - val_accuracy: 0.9584\n",
      "Epoch 38/50\n",
      "60000/60000 [==============================] - 2s 28us/sample - loss: 0.0646 - accuracy: 0.9787 - val_loss: 0.1514 - val_accuracy: 0.9626\n",
      "Epoch 39/50\n",
      "60000/60000 [==============================] - 2s 28us/sample - loss: 0.0615 - accuracy: 0.9800 - val_loss: 0.1640 - val_accuracy: 0.9600\n",
      "Epoch 40/50\n",
      "60000/60000 [==============================] - 2s 28us/sample - loss: 0.0622 - accuracy: 0.9790 - val_loss: 0.1636 - val_accuracy: 0.9612\n",
      "Epoch 41/50\n",
      "60000/60000 [==============================] - 2s 28us/sample - loss: 0.0614 - accuracy: 0.9796 - val_loss: 0.1905 - val_accuracy: 0.9545\n",
      "Epoch 42/50\n",
      "60000/60000 [==============================] - 2s 28us/sample - loss: 0.0603 - accuracy: 0.9801 - val_loss: 0.1810 - val_accuracy: 0.9592\n",
      "Epoch 43/50\n",
      "60000/60000 [==============================] - 2s 28us/sample - loss: 0.0589 - accuracy: 0.9801 - val_loss: 0.1583 - val_accuracy: 0.9602\n",
      "Epoch 44/50\n",
      "60000/60000 [==============================] - 2s 28us/sample - loss: 0.0570 - accuracy: 0.9815 - val_loss: 0.1777 - val_accuracy: 0.9583\n",
      "Epoch 45/50\n",
      "60000/60000 [==============================] - 2s 28us/sample - loss: 0.0578 - accuracy: 0.9806 - val_loss: 0.1738 - val_accuracy: 0.9575\n",
      "Epoch 46/50\n",
      "60000/60000 [==============================] - 2s 28us/sample - loss: 0.0580 - accuracy: 0.9806 - val_loss: 0.1687 - val_accuracy: 0.9597\n",
      "Epoch 47/50\n",
      "60000/60000 [==============================] - 2s 28us/sample - loss: 0.0567 - accuracy: 0.9812 - val_loss: 0.1775 - val_accuracy: 0.9580\n",
      "Epoch 48/50\n",
      "60000/60000 [==============================] - 2s 28us/sample - loss: 0.0572 - accuracy: 0.9801 - val_loss: 0.1834 - val_accuracy: 0.9601\n",
      "Epoch 49/50\n",
      "60000/60000 [==============================] - 2s 28us/sample - loss: 0.0538 - accuracy: 0.9820 - val_loss: 0.1705 - val_accuracy: 0.9628\n",
      "Epoch 50/50\n",
      "60000/60000 [==============================] - 2s 28us/sample - loss: 0.0530 - accuracy: 0.9820 - val_loss: 0.1686 - val_accuracy: 0.9627\n"
     ]
    }
   ],
   "source": [
    "NAG = optimizers.SGD(lr=0.01, decay=1e-4, momentum=0.9, nesterov=True)\n",
    "Adam = optimizers.Adam(lr=1e-2)\n",
    "\n",
    "model.compile(optimizer= Adam ,\n",
    "              loss='sparse_categorical_crossentropy',\n",
    "              metrics=['accuracy'])\n",
    "\n",
    "history = model.fit(x_train, \n",
    "                    y_train, \n",
    "                    epochs=epoch, \n",
    "                    batch_size=batch_size,\n",
    "                    validation_data=(x_test, y_test))"
   ]
  },
  {
   "cell_type": "code",
   "execution_count": 8,
   "metadata": {},
   "outputs": [
    {
     "data": {
      "text/plain": [
       "<matplotlib.legend.Legend at 0x28592acb828>"
      ]
     },
     "execution_count": 8,
     "metadata": {},
     "output_type": "execute_result"
    },
    {
     "data": {
      "image/png": "[encoded data removed]",
      "text/plain": [
       "<Figure size 432x288 with 1 Axes>"
      ]
     },
     "metadata": {
      "needs_background": "light"
     },
     "output_type": "display_data"
    }
   ],
   "source": [
    "plt.plot(history.history['accuracy'], label='accuracy')\n",
    "plt.plot(history.history['val_accuracy'], label = 'val_accuracy')\n",
    "plt.xlabel('Epoch')\n",
    "plt.ylabel('Accuracy')\n",
    "plt.ylim([0.8, 1])\n",
    "plt.legend(loc='lower right')\n",
    "# plt.savefig(\"ann_acc_2.png\", dpi=500)"
   ]
  },
  {
   "cell_type": "code",
   "execution_count": 9,
   "metadata": {},
   "outputs": [
    {
     "data": {
      "text/plain": [
       "<matplotlib.legend.Legend at 0x28592b7ccf8>"
      ]
     },
     "execution_count": 9,
     "metadata": {},
     "output_type": "execute_result"
    },
    {
     "data": {
      "image/png": "[encoded data removed]",
      "text/plain": [
       "<Figure size 432x288 with 1 Axes>"
      ]
     },
     "metadata": {
      "needs_background": "light"
     },
     "output_type": "display_data"
    }
   ],
   "source": [
    "plt.plot(history.history['loss'], label='loss')\n",
    "plt.plot(history.history['val_loss'], label = 'val_loss')\n",
    "plt.xlabel('Epoch')\n",
    "plt.ylabel('loss')\n",
    "plt.ylim([0, 0.5])\n",
    "plt.legend(loc='upper right')\n",
    "# plt.savefig(\"ann_loss.png\", dpi=500)"
   ]
  },
  {
   "cell_type": "code",
   "execution_count": null,
   "metadata": {},
   "outputs": [],
   "source": []
  }
 ],
 "metadata": {
  "kernelspec": {
   "display_name": "Python 3",
   "language": "python",
   "name": "python3"
  },
  "language_info": {
   "codemirror_mode": {
    "name": "ipython",
    "version": 3
   },
   "file_extension": ".py",
   "mimetype": "text/x-python",
   "name": "python",
   "nbconvert_exporter": "python",
   "pygments_lexer": "ipython3",
   "version": "3.6.9"
  }
 },
 "nbformat": 4,
 "nbformat_minor": 2
}
